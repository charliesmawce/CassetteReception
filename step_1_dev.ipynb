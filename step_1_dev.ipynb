{
 "cells": [
  {
   "cell_type": "code",
   "execution_count": 15,
   "id": "b039cd48",
   "metadata": {},
   "outputs": [],
   "source": [
    "import uproot\n",
    "import matplotlib.pyplot as plt\n",
    "import pandas as pd\n",
    "import numpy as np\n",
    "from matplotlib.backends.backend_pdf import PdfPages\n",
    "import matplotlib as mpl\n",
    "mpl.rcParams['text.usetex'] = False\n",
    "\n",
    "\n",
    "\n",
    "file_path = \"c:/cygwin64/home/charl/25CERN/CassetteReception/ROOTFiles/summary_of_v3a_TTU_modules.root\"\n",
    "#input(\"Please enter the file path\") \n",
    "#current path to test file! \"c:/cygwin64/home/charl/25CERN/CassetteReception/summary_of_v3a_TTU_modules.root\" "
   ]
  },
  {
   "cell_type": "code",
   "execution_count": 16,
   "id": "fd47ee9b",
   "metadata": {},
   "outputs": [],
   "source": [
    "\n",
    "file = uproot.open(file_path)\n",
    "treenames = file.keys()\n",
    "treenames = [t[:-2] for t in treenames]\n",
    "\n",
    "tree_list = []\n",
    "for treename in treenames:\n",
    "    tree_list.append(f\"{file_path}:{treename}\")\n",
    "\n",
    "module_df = pd.DataFrame(columns=['name', 'i_vs_v', 'adc_stdd', 'adc_mean'])\n",
    "pdf_plots = PdfPages(f'{treenames[0]}_{treenames[-1][-4:]}plots.pdf')\n"
   ]
  },
  {
   "cell_type": "code",
   "execution_count": 17,
   "id": "4ad56571",
   "metadata": {},
   "outputs": [
    {
     "name": "stdout",
     "output_type": "stream",
     "text": [
      "235\n",
      "235\n",
      "235\n",
      "235\n",
      "235\n",
      "235\n",
      "235\n",
      "235\n",
      "235\n",
      "235\n",
      "235\n",
      "235\n",
      "235\n",
      "235\n",
      "235\n",
      "235\n",
      "235\n",
      "235\n",
      "235\n"
     ]
    }
   ],
   "source": [
    "dict_mods = {'module_name':[], 'meas_v':[], 'meas_i':[]}\n",
    "i_v_list = []\n",
    "\n",
    "for index_tree, branches in enumerate(uproot.iterate(tree_list)):\n",
    "        mod_name = treenames[index_tree]    \n",
    "        list_y = [(i*(10**6)) for i in branches[\"meas_i\"].tolist()]\n",
    "        #while list_y and list_y[-1] == 0:\n",
    "        #        list_y.pop()\n",
    "                        \n",
    "        list_x = branches[\"meas_v\"].tolist()[:len(list_y)] \n",
    "        \n",
    "        print(len(list_x))\n",
    "\n",
    "        dict_mods['module_name'].append(mod_name)\n",
    "        dict_mods['meas_v'].append(list_x)\n",
    "        dict_mods['meas_i'].append(list_y)\n",
    "\n",
    "        dataframe = file[str(treenames[index_tree])].arrays(library = \"pd\")\n",
    "        i_v_df= dataframe.drop(columns=[\"adc_stdd\", \"adc_mean\"])\n",
    "        i_v_df.to_csv(f\"CSVFiles/{treenames[index_tree]}.csv\", index = False)"
   ]
  },
  {
   "cell_type": "code",
   "execution_count": 28,
   "id": "fb24f6bc",
   "metadata": {},
   "outputs": [],
   "source": [
    "dict_mods = {key: val for key, val in dict_mods.items() if val != 0}\n",
    "i_vs_v_df = pd.DataFrame.from_dict(dict_mods)\n",
    "\n",
    "for i in range(len(i_vs_v_df.index)): #i vs v plotting\n",
    "        row = i_vs_v_df.index[i]\n",
    "        \n",
    "        plt.plot(i_vs_v_df['meas_v'].loc[row], i_vs_v_df['meas_i'].loc[row], marker = \".\", linewidth = 1, markersize = 4, label = i_vs_v_df['module_name'].loc[row])\n",
    "        plt.grid(which='minor', color=\"#D1D1D1\", linestyle='-', axis = 'x')\n",
    "        plt.grid(which='major', color=\"#454545\", linestyle='-')\n",
    "        plt.minorticks_on()\n",
    "        plt.title(\"Current vs Voltage\")\n",
    "        plt.yscale(\"log\")\n",
    "        plt.xlabel(\"Voltage (V)\")\n",
    "        plt.ylabel(\"Current (μA)\")\n",
    "        plt.xlim([0,1000])\n",
    "plt.legend(loc = 'lower right',bbox_to_anchor=(1.4,0))\n",
    "plt.savefig(f\"{treenames[0]}_{treenames[-1][-4:]}_i_v\", bbox_inches=\"tight\")\n",
    "#pdf_plots.savefig()\n",
    "\n",
    "#plt.show()\n",
    "plt.close()\n"
   ]
  },
  {
   "cell_type": "code",
   "execution_count": null,
   "id": "3125a12d",
   "metadata": {},
   "outputs": [
    {
     "name": "stdout",
     "output_type": "stream",
     "text": [
      "length of adc list: 235, branches name: [{meas_i: 4e-09, meas_v: 4.97e-05, adc_stdd: 19.2, adc_mean: 81.5}, ..., {...}], adc: adc_stdd\n",
      "made it!\n",
      "length of adc list: 235, branches name: [{meas_i: 4e-09, meas_v: 4.97e-05, adc_stdd: 19.2, adc_mean: 81.5}, ..., {...}], adc: adc_mean\n",
      "made it!\n",
      "length of adc list: 235, branches name: [{meas_i: 2.88e-08, meas_v: 3.5e-05, adc_stdd: 30.4, adc_mean: 67.8}, ...], adc: adc_stdd\n",
      "made it!\n",
      "length of adc list: 235, branches name: [{meas_i: 2.88e-08, meas_v: 3.5e-05, adc_stdd: 30.4, adc_mean: 67.8}, ...], adc: adc_mean\n",
      "made it!\n",
      "length of adc list: 235, branches name: [{meas_i: 2.07e-08, meas_v: 3.31e-05, adc_stdd: 20.7, adc_mean: 20.3}, ...], adc: adc_stdd\n",
      "made it!\n",
      "length of adc list: 235, branches name: [{meas_i: 2.07e-08, meas_v: 3.31e-05, adc_stdd: 20.7, adc_mean: 20.3}, ...], adc: adc_mean\n",
      "made it!\n",
      "length of adc list: 235, branches name: [{meas_i: 2e-08, meas_v: 4.65e-05, adc_stdd: 31.2, adc_mean: 72.6}, ..., {...}], adc: adc_stdd\n",
      "made it!\n",
      "length of adc list: 235, branches name: [{meas_i: 2e-08, meas_v: 4.65e-05, adc_stdd: 31.2, adc_mean: 72.6}, ..., {...}], adc: adc_mean\n",
      "made it!\n",
      "length of adc list: 235, branches name: [{meas_i: 1.8e-08, meas_v: 3.28e-05, adc_stdd: 33.1, adc_mean: 80.5}, ...], adc: adc_stdd\n",
      "made it!\n",
      "length of adc list: 235, branches name: [{meas_i: 1.8e-08, meas_v: 3.28e-05, adc_stdd: 33.1, adc_mean: 80.5}, ...], adc: adc_mean\n",
      "made it!\n",
      "length of adc list: 235, branches name: [{meas_i: 6.33e-09, meas_v: 3.13e-05, adc_stdd: 11.8, adc_mean: 95.6}, ...], adc: adc_stdd\n",
      "made it!\n",
      "length of adc list: 235, branches name: [{meas_i: 6.33e-09, meas_v: 3.13e-05, adc_stdd: 11.8, adc_mean: 95.6}, ...], adc: adc_mean\n",
      "made it!\n",
      "length of adc list: 235, branches name: [{meas_i: 9.11e-09, meas_v: 4.59e-05, adc_stdd: 31.5, adc_mean: 102}, ...], adc: adc_stdd\n",
      "made it!\n",
      "length of adc list: 235, branches name: [{meas_i: 9.11e-09, meas_v: 4.59e-05, adc_stdd: 31.5, adc_mean: 102}, ...], adc: adc_mean\n",
      "made it!\n",
      "length of adc list: 235, branches name: [{meas_i: 1.59e-08, meas_v: 5.22e-05, adc_stdd: 19.5, adc_mean: 26.4}, ...], adc: adc_stdd\n",
      "made it!\n",
      "length of adc list: 235, branches name: [{meas_i: 1.59e-08, meas_v: 5.22e-05, adc_stdd: 19.5, adc_mean: 26.4}, ...], adc: adc_mean\n",
      "made it!\n",
      "length of adc list: 235, branches name: [{meas_i: 1.87e-08, meas_v: 4.45e-05, adc_stdd: 50.5, adc_mean: 40.7}, ...], adc: adc_stdd\n",
      "made it!\n",
      "length of adc list: 235, branches name: [{meas_i: 1.87e-08, meas_v: 4.45e-05, adc_stdd: 50.5, adc_mean: 40.7}, ...], adc: adc_mean\n",
      "made it!\n",
      "length of adc list: 235, branches name: [{meas_i: 2.87e-10, meas_v: 5.83e-05, adc_stdd: 73.1, adc_mean: 87.5}, ...], adc: adc_stdd\n",
      "made it!\n",
      "length of adc list: 235, branches name: [{meas_i: 2.87e-10, meas_v: 5.83e-05, adc_stdd: 73.1, adc_mean: 87.5}, ...], adc: adc_mean\n",
      "made it!\n",
      "length of adc list: 235, branches name: [{meas_i: 2.87e-10, meas_v: 4.27e-05, adc_stdd: 87.9, adc_mean: 201}, ...], adc: adc_stdd\n",
      "made it!\n",
      "length of adc list: 235, branches name: [{meas_i: 2.87e-10, meas_v: 4.27e-05, adc_stdd: 87.9, adc_mean: 201}, ...], adc: adc_mean\n",
      "made it!\n",
      "length of adc list: 235, branches name: [{meas_i: 3.83e-08, meas_v: 4.95e-05, adc_stdd: 14, adc_mean: 108}, ..., {...}], adc: adc_stdd\n",
      "made it!\n",
      "length of adc list: 235, branches name: [{meas_i: 3.83e-08, meas_v: 4.95e-05, adc_stdd: 14, adc_mean: 108}, ..., {...}], adc: adc_mean\n",
      "made it!\n",
      "length of adc list: 235, branches name: [{meas_i: 7.79e-09, meas_v: 4.5e-05, adc_stdd: 78.1, adc_mean: 98.7}, ...], adc: adc_stdd\n",
      "made it!\n",
      "length of adc list: 235, branches name: [{meas_i: 7.79e-09, meas_v: 4.5e-05, adc_stdd: 78.1, adc_mean: 98.7}, ...], adc: adc_mean\n",
      "made it!\n",
      "length of adc list: 235, branches name: [{meas_i: 1.78e-08, meas_v: 4.18e-05, adc_stdd: 69.5, adc_mean: 77.7}, ...], adc: adc_stdd\n",
      "made it!\n",
      "length of adc list: 235, branches name: [{meas_i: 1.78e-08, meas_v: 4.18e-05, adc_stdd: 69.5, adc_mean: 77.7}, ...], adc: adc_mean\n",
      "made it!\n",
      "length of adc list: 235, branches name: [{meas_i: 1.48e-08, meas_v: 3.91e-05, adc_stdd: 18.5, adc_mean: 62.9}, ...], adc: adc_stdd\n",
      "made it!\n",
      "length of adc list: 235, branches name: [{meas_i: 1.48e-08, meas_v: 3.91e-05, adc_stdd: 18.5, adc_mean: 62.9}, ...], adc: adc_mean\n",
      "made it!\n",
      "length of adc list: 235, branches name: [{meas_i: 2.63e-08, meas_v: 3.62e-05, adc_stdd: 81.2, adc_mean: 88.6}, ...], adc: adc_stdd\n",
      "made it!\n",
      "length of adc list: 235, branches name: [{meas_i: 2.63e-08, meas_v: 3.62e-05, adc_stdd: 81.2, adc_mean: 88.6}, ...], adc: adc_mean\n",
      "made it!\n",
      "length of adc list: 235, branches name: [{meas_i: 2.15e-08, meas_v: 2.89e-05, adc_stdd: 55.5, adc_mean: 77.8}, ...], adc: adc_stdd\n",
      "made it!\n",
      "length of adc list: 235, branches name: [{meas_i: 2.15e-08, meas_v: 2.89e-05, adc_stdd: 55.5, adc_mean: 77.8}, ...], adc: adc_mean\n",
      "made it!\n",
      "length of adc list: 235, branches name: [{meas_i: 4.62e-09, meas_v: 4.98e-05, adc_stdd: 58.3, adc_mean: 32.1}, ...], adc: adc_stdd\n",
      "made it!\n",
      "length of adc list: 235, branches name: [{meas_i: 4.62e-09, meas_v: 4.98e-05, adc_stdd: 58.3, adc_mean: 32.1}, ...], adc: adc_mean\n",
      "made it!\n",
      "length of adc list: 235, branches name: [{meas_i: 1.04e-08, meas_v: 4.19e-05, adc_stdd: 258, adc_mean: 354}, ..., {...}], adc: adc_stdd\n",
      "made it!\n",
      "length of adc list: 235, branches name: [{meas_i: 1.04e-08, meas_v: 4.19e-05, adc_stdd: 258, adc_mean: 354}, ..., {...}], adc: adc_mean\n",
      "made it!\n"
     ]
    }
   ],
   "source": [
    "x = []\n",
    "y_mean = []\n",
    "y_stdd = []\n",
    "y_type = [y_mean,y_stdd]\n",
    "\n",
    "for index_tree, branches in enumerate(uproot.iterate(tree_list)):\n",
    "        #formatting data for plots and building csvs\n",
    "        for idx, adc in enumerate([\"adc_stdd\", \"adc_mean\"]):\n",
    "                adc_list = branches[adc]\n",
    "                print(f\"length of adc list: {len(adc_list)}, branches name: {branches}, adc: {adc}\")\n",
    "                #building csvs\n",
    "                adc_df = pd.read_csv(f\"CSVFiles/{treenames[index_tree]}.csv\")\n",
    "                #try:\n",
    "                print(\"made it!\")\n",
    "                adc_df.insert(idx + 2, adc, adc_list)\n",
    "                adc_df.to_csv(f\"CSVFiles/{treenames[index_tree]}.csv\", index = False)\n",
    "                #except Exception as e:\n",
    "                #        print(\"Warning: you are trying to make a file that already exits. Please delete any files that you wish to rewrite.\", e)\n",
    "\n",
    "                #formatting data\n",
    "                for index in range(len(adc_df.index)-1):\n",
    "                        if adc == \"adc_stdd\":\n",
    "                                y_stdd.append(adc_df.iat[index, 2])\n",
    "                        else:\n",
    "                                y_mean.append(adc_df.iat[index, 3])\n",
    "                                x.append(index)\n",
    "                \n",
    "        #plots\n",
    "        fig, (ax_stdd, ax_mean) = plt.subplots(2, sharex=True)\n",
    "        ax_stdd.set_ylim(-2,6)\n",
    "        ax_mean.set_ylim(-2,6)\n",
    "        ax_stdd.scatter(x, y_stdd)\n",
    "        ax_mean.scatter(x, y_mean)\n",
    "\n",
    "        ax_stdd.set_ylabel(\"adc_stdd (noise)\")\n",
    "        ax_mean.set_ylabel(\"adc_mean (pedetance)\")\n",
    "\n",
    "        ax_stdd.grid(visible=None, which='major', axis='both')\n",
    "        ax_stdd.xaxis.set_ticks(np.arange(0, 250, 20))\n",
    "        ax_mean.grid(visible=None, which='major', axis='both')\n",
    "        ax_mean.xaxis.set_ticks(np.arange(0, 250, 20))\n",
    "        ax_stdd.grid(visible=None, which='minor', axis='x', linestyle = '-')\n",
    "        ax_mean.grid(visible=None, which='minor', axis='x', linestyle = '-')\n",
    "        \n",
    "        fig.suptitle(str(treenames[index_tree]))\n",
    "        fig.set_figwidth(9)\n",
    "        plt.xlim([0,240])\n",
    "        #plt.figure(treenames[index_tree])\n",
    "        #plt.savefig(f\"{treenames[index_tree]}_adc.pdf\")\n",
    "        #pdf_plots.savefig()\n",
    "        plt.close()\n",
    "        #plt.show()"
   ]
  },
  {
   "cell_type": "code",
   "execution_count": 20,
   "id": "cb0ee3dd",
   "metadata": {},
   "outputs": [
    {
     "name": "stdout",
     "output_type": "stream",
     "text": [
      "           meas_i        meas_v     adc_stdd     adc_mean\n",
      "0    1.035118e-08      0.000042   257.575300   353.848572\n",
      "1    4.204217e-08     10.000200   236.487230   347.891754\n",
      "2    4.969168e-08     20.000260   225.488080   332.544952\n",
      "3    5.524811e-08     30.015460   230.217160   327.780518\n",
      "4    6.296668e-08     40.026660   214.219590   325.980377\n",
      "..            ...           ...          ...          ...\n",
      "230  0.000000e+00  10000.000000    14.449750   132.177139\n",
      "231  0.000000e+00  10000.000000    10.959539   141.135162\n",
      "232  0.000000e+00  10000.000000     1.354642   665.105042\n",
      "233  0.000000e+00  10000.000000     1.353091   670.755859\n",
      "234  0.000000e+00  10000.000000  1001.000000  1001.000000\n",
      "\n",
      "[235 rows x 4 columns]\n"
     ]
    }
   ],
   "source": [
    "print(adc_df)"
   ]
  },
  {
   "cell_type": "markdown",
   "id": "8c301f1f",
   "metadata": {},
   "source": [
    "STEP 2!!!!!!!"
   ]
  },
  {
   "cell_type": "code",
   "execution_count": 21,
   "id": "97747b98",
   "metadata": {},
   "outputs": [],
   "source": [
    "import pandas as pd\n",
    "dataframe = file[str(treenames[0])].arrays(library = \"pd\")\n",
    "dataframe = dataframe.drop(columns = [\"adc_stdd\", \"adc_mean\"])\n",
    "#dataframe.to_csv(\"singleplot.csv\", index = False)\n",
    "\n",
    "\n",
    "#Currently specialized to the one practice plot lol\n"
   ]
  },
  {
   "cell_type": "code",
   "execution_count": 22,
   "id": "9ec8e984",
   "metadata": {},
   "outputs": [
    {
     "ename": "FileNotFoundError",
     "evalue": "[Errno 2] No such file or directory: 'singleplot.csv'",
     "output_type": "error",
     "traceback": [
      "\u001b[31m---------------------------------------------------------------------------\u001b[39m",
      "\u001b[31mFileNotFoundError\u001b[39m                         Traceback (most recent call last)",
      "\u001b[36mCell\u001b[39m\u001b[36m \u001b[39m\u001b[32mIn[22]\u001b[39m\u001b[32m, line 1\u001b[39m\n\u001b[32m----> \u001b[39m\u001b[32m1\u001b[39m \u001b[43mpd\u001b[49m\u001b[43m.\u001b[49m\u001b[43mread_csv\u001b[49m\u001b[43m(\u001b[49m\u001b[33;43m\"\u001b[39;49m\u001b[33;43msingleplot.csv\u001b[39;49m\u001b[33;43m\"\u001b[39;49m\u001b[43m)\u001b[49m\n",
      "\u001b[36mFile \u001b[39m\u001b[32m~\\AppData\\Local\\Packages\\PythonSoftwareFoundation.Python.3.12_qbz5n2kfra8p0\\LocalCache\\local-packages\\Python312\\site-packages\\pandas\\io\\parsers\\readers.py:1026\u001b[39m, in \u001b[36mread_csv\u001b[39m\u001b[34m(filepath_or_buffer, sep, delimiter, header, names, index_col, usecols, dtype, engine, converters, true_values, false_values, skipinitialspace, skiprows, skipfooter, nrows, na_values, keep_default_na, na_filter, verbose, skip_blank_lines, parse_dates, infer_datetime_format, keep_date_col, date_parser, date_format, dayfirst, cache_dates, iterator, chunksize, compression, thousands, decimal, lineterminator, quotechar, quoting, doublequote, escapechar, comment, encoding, encoding_errors, dialect, on_bad_lines, delim_whitespace, low_memory, memory_map, float_precision, storage_options, dtype_backend)\u001b[39m\n\u001b[32m   1013\u001b[39m kwds_defaults = _refine_defaults_read(\n\u001b[32m   1014\u001b[39m     dialect,\n\u001b[32m   1015\u001b[39m     delimiter,\n\u001b[32m   (...)\u001b[39m\u001b[32m   1022\u001b[39m     dtype_backend=dtype_backend,\n\u001b[32m   1023\u001b[39m )\n\u001b[32m   1024\u001b[39m kwds.update(kwds_defaults)\n\u001b[32m-> \u001b[39m\u001b[32m1026\u001b[39m \u001b[38;5;28;01mreturn\u001b[39;00m \u001b[43m_read\u001b[49m\u001b[43m(\u001b[49m\u001b[43mfilepath_or_buffer\u001b[49m\u001b[43m,\u001b[49m\u001b[43m \u001b[49m\u001b[43mkwds\u001b[49m\u001b[43m)\u001b[49m\n",
      "\u001b[36mFile \u001b[39m\u001b[32m~\\AppData\\Local\\Packages\\PythonSoftwareFoundation.Python.3.12_qbz5n2kfra8p0\\LocalCache\\local-packages\\Python312\\site-packages\\pandas\\io\\parsers\\readers.py:620\u001b[39m, in \u001b[36m_read\u001b[39m\u001b[34m(filepath_or_buffer, kwds)\u001b[39m\n\u001b[32m    617\u001b[39m _validate_names(kwds.get(\u001b[33m\"\u001b[39m\u001b[33mnames\u001b[39m\u001b[33m\"\u001b[39m, \u001b[38;5;28;01mNone\u001b[39;00m))\n\u001b[32m    619\u001b[39m \u001b[38;5;66;03m# Create the parser.\u001b[39;00m\n\u001b[32m--> \u001b[39m\u001b[32m620\u001b[39m parser = \u001b[43mTextFileReader\u001b[49m\u001b[43m(\u001b[49m\u001b[43mfilepath_or_buffer\u001b[49m\u001b[43m,\u001b[49m\u001b[43m \u001b[49m\u001b[43m*\u001b[49m\u001b[43m*\u001b[49m\u001b[43mkwds\u001b[49m\u001b[43m)\u001b[49m\n\u001b[32m    622\u001b[39m \u001b[38;5;28;01mif\u001b[39;00m chunksize \u001b[38;5;129;01mor\u001b[39;00m iterator:\n\u001b[32m    623\u001b[39m     \u001b[38;5;28;01mreturn\u001b[39;00m parser\n",
      "\u001b[36mFile \u001b[39m\u001b[32m~\\AppData\\Local\\Packages\\PythonSoftwareFoundation.Python.3.12_qbz5n2kfra8p0\\LocalCache\\local-packages\\Python312\\site-packages\\pandas\\io\\parsers\\readers.py:1620\u001b[39m, in \u001b[36mTextFileReader.__init__\u001b[39m\u001b[34m(self, f, engine, **kwds)\u001b[39m\n\u001b[32m   1617\u001b[39m     \u001b[38;5;28mself\u001b[39m.options[\u001b[33m\"\u001b[39m\u001b[33mhas_index_names\u001b[39m\u001b[33m\"\u001b[39m] = kwds[\u001b[33m\"\u001b[39m\u001b[33mhas_index_names\u001b[39m\u001b[33m\"\u001b[39m]\n\u001b[32m   1619\u001b[39m \u001b[38;5;28mself\u001b[39m.handles: IOHandles | \u001b[38;5;28;01mNone\u001b[39;00m = \u001b[38;5;28;01mNone\u001b[39;00m\n\u001b[32m-> \u001b[39m\u001b[32m1620\u001b[39m \u001b[38;5;28mself\u001b[39m._engine = \u001b[38;5;28;43mself\u001b[39;49m\u001b[43m.\u001b[49m\u001b[43m_make_engine\u001b[49m\u001b[43m(\u001b[49m\u001b[43mf\u001b[49m\u001b[43m,\u001b[49m\u001b[43m \u001b[49m\u001b[38;5;28;43mself\u001b[39;49m\u001b[43m.\u001b[49m\u001b[43mengine\u001b[49m\u001b[43m)\u001b[49m\n",
      "\u001b[36mFile \u001b[39m\u001b[32m~\\AppData\\Local\\Packages\\PythonSoftwareFoundation.Python.3.12_qbz5n2kfra8p0\\LocalCache\\local-packages\\Python312\\site-packages\\pandas\\io\\parsers\\readers.py:1880\u001b[39m, in \u001b[36mTextFileReader._make_engine\u001b[39m\u001b[34m(self, f, engine)\u001b[39m\n\u001b[32m   1878\u001b[39m     \u001b[38;5;28;01mif\u001b[39;00m \u001b[33m\"\u001b[39m\u001b[33mb\u001b[39m\u001b[33m\"\u001b[39m \u001b[38;5;129;01mnot\u001b[39;00m \u001b[38;5;129;01min\u001b[39;00m mode:\n\u001b[32m   1879\u001b[39m         mode += \u001b[33m\"\u001b[39m\u001b[33mb\u001b[39m\u001b[33m\"\u001b[39m\n\u001b[32m-> \u001b[39m\u001b[32m1880\u001b[39m \u001b[38;5;28mself\u001b[39m.handles = \u001b[43mget_handle\u001b[49m\u001b[43m(\u001b[49m\n\u001b[32m   1881\u001b[39m \u001b[43m    \u001b[49m\u001b[43mf\u001b[49m\u001b[43m,\u001b[49m\n\u001b[32m   1882\u001b[39m \u001b[43m    \u001b[49m\u001b[43mmode\u001b[49m\u001b[43m,\u001b[49m\n\u001b[32m   1883\u001b[39m \u001b[43m    \u001b[49m\u001b[43mencoding\u001b[49m\u001b[43m=\u001b[49m\u001b[38;5;28;43mself\u001b[39;49m\u001b[43m.\u001b[49m\u001b[43moptions\u001b[49m\u001b[43m.\u001b[49m\u001b[43mget\u001b[49m\u001b[43m(\u001b[49m\u001b[33;43m\"\u001b[39;49m\u001b[33;43mencoding\u001b[39;49m\u001b[33;43m\"\u001b[39;49m\u001b[43m,\u001b[49m\u001b[43m \u001b[49m\u001b[38;5;28;43;01mNone\u001b[39;49;00m\u001b[43m)\u001b[49m\u001b[43m,\u001b[49m\n\u001b[32m   1884\u001b[39m \u001b[43m    \u001b[49m\u001b[43mcompression\u001b[49m\u001b[43m=\u001b[49m\u001b[38;5;28;43mself\u001b[39;49m\u001b[43m.\u001b[49m\u001b[43moptions\u001b[49m\u001b[43m.\u001b[49m\u001b[43mget\u001b[49m\u001b[43m(\u001b[49m\u001b[33;43m\"\u001b[39;49m\u001b[33;43mcompression\u001b[39;49m\u001b[33;43m\"\u001b[39;49m\u001b[43m,\u001b[49m\u001b[43m \u001b[49m\u001b[38;5;28;43;01mNone\u001b[39;49;00m\u001b[43m)\u001b[49m\u001b[43m,\u001b[49m\n\u001b[32m   1885\u001b[39m \u001b[43m    \u001b[49m\u001b[43mmemory_map\u001b[49m\u001b[43m=\u001b[49m\u001b[38;5;28;43mself\u001b[39;49m\u001b[43m.\u001b[49m\u001b[43moptions\u001b[49m\u001b[43m.\u001b[49m\u001b[43mget\u001b[49m\u001b[43m(\u001b[49m\u001b[33;43m\"\u001b[39;49m\u001b[33;43mmemory_map\u001b[39;49m\u001b[33;43m\"\u001b[39;49m\u001b[43m,\u001b[49m\u001b[43m \u001b[49m\u001b[38;5;28;43;01mFalse\u001b[39;49;00m\u001b[43m)\u001b[49m\u001b[43m,\u001b[49m\n\u001b[32m   1886\u001b[39m \u001b[43m    \u001b[49m\u001b[43mis_text\u001b[49m\u001b[43m=\u001b[49m\u001b[43mis_text\u001b[49m\u001b[43m,\u001b[49m\n\u001b[32m   1887\u001b[39m \u001b[43m    \u001b[49m\u001b[43merrors\u001b[49m\u001b[43m=\u001b[49m\u001b[38;5;28;43mself\u001b[39;49m\u001b[43m.\u001b[49m\u001b[43moptions\u001b[49m\u001b[43m.\u001b[49m\u001b[43mget\u001b[49m\u001b[43m(\u001b[49m\u001b[33;43m\"\u001b[39;49m\u001b[33;43mencoding_errors\u001b[39;49m\u001b[33;43m\"\u001b[39;49m\u001b[43m,\u001b[49m\u001b[43m \u001b[49m\u001b[33;43m\"\u001b[39;49m\u001b[33;43mstrict\u001b[39;49m\u001b[33;43m\"\u001b[39;49m\u001b[43m)\u001b[49m\u001b[43m,\u001b[49m\n\u001b[32m   1888\u001b[39m \u001b[43m    \u001b[49m\u001b[43mstorage_options\u001b[49m\u001b[43m=\u001b[49m\u001b[38;5;28;43mself\u001b[39;49m\u001b[43m.\u001b[49m\u001b[43moptions\u001b[49m\u001b[43m.\u001b[49m\u001b[43mget\u001b[49m\u001b[43m(\u001b[49m\u001b[33;43m\"\u001b[39;49m\u001b[33;43mstorage_options\u001b[39;49m\u001b[33;43m\"\u001b[39;49m\u001b[43m,\u001b[49m\u001b[43m \u001b[49m\u001b[38;5;28;43;01mNone\u001b[39;49;00m\u001b[43m)\u001b[49m\u001b[43m,\u001b[49m\n\u001b[32m   1889\u001b[39m \u001b[43m\u001b[49m\u001b[43m)\u001b[49m\n\u001b[32m   1890\u001b[39m \u001b[38;5;28;01massert\u001b[39;00m \u001b[38;5;28mself\u001b[39m.handles \u001b[38;5;129;01mis\u001b[39;00m \u001b[38;5;129;01mnot\u001b[39;00m \u001b[38;5;28;01mNone\u001b[39;00m\n\u001b[32m   1891\u001b[39m f = \u001b[38;5;28mself\u001b[39m.handles.handle\n",
      "\u001b[36mFile \u001b[39m\u001b[32m~\\AppData\\Local\\Packages\\PythonSoftwareFoundation.Python.3.12_qbz5n2kfra8p0\\LocalCache\\local-packages\\Python312\\site-packages\\pandas\\io\\common.py:873\u001b[39m, in \u001b[36mget_handle\u001b[39m\u001b[34m(path_or_buf, mode, encoding, compression, memory_map, is_text, errors, storage_options)\u001b[39m\n\u001b[32m    868\u001b[39m \u001b[38;5;28;01melif\u001b[39;00m \u001b[38;5;28misinstance\u001b[39m(handle, \u001b[38;5;28mstr\u001b[39m):\n\u001b[32m    869\u001b[39m     \u001b[38;5;66;03m# Check whether the filename is to be opened in binary mode.\u001b[39;00m\n\u001b[32m    870\u001b[39m     \u001b[38;5;66;03m# Binary mode does not support 'encoding' and 'newline'.\u001b[39;00m\n\u001b[32m    871\u001b[39m     \u001b[38;5;28;01mif\u001b[39;00m ioargs.encoding \u001b[38;5;129;01mand\u001b[39;00m \u001b[33m\"\u001b[39m\u001b[33mb\u001b[39m\u001b[33m\"\u001b[39m \u001b[38;5;129;01mnot\u001b[39;00m \u001b[38;5;129;01min\u001b[39;00m ioargs.mode:\n\u001b[32m    872\u001b[39m         \u001b[38;5;66;03m# Encoding\u001b[39;00m\n\u001b[32m--> \u001b[39m\u001b[32m873\u001b[39m         handle = \u001b[38;5;28;43mopen\u001b[39;49m\u001b[43m(\u001b[49m\n\u001b[32m    874\u001b[39m \u001b[43m            \u001b[49m\u001b[43mhandle\u001b[49m\u001b[43m,\u001b[49m\n\u001b[32m    875\u001b[39m \u001b[43m            \u001b[49m\u001b[43mioargs\u001b[49m\u001b[43m.\u001b[49m\u001b[43mmode\u001b[49m\u001b[43m,\u001b[49m\n\u001b[32m    876\u001b[39m \u001b[43m            \u001b[49m\u001b[43mencoding\u001b[49m\u001b[43m=\u001b[49m\u001b[43mioargs\u001b[49m\u001b[43m.\u001b[49m\u001b[43mencoding\u001b[49m\u001b[43m,\u001b[49m\n\u001b[32m    877\u001b[39m \u001b[43m            \u001b[49m\u001b[43merrors\u001b[49m\u001b[43m=\u001b[49m\u001b[43merrors\u001b[49m\u001b[43m,\u001b[49m\n\u001b[32m    878\u001b[39m \u001b[43m            \u001b[49m\u001b[43mnewline\u001b[49m\u001b[43m=\u001b[49m\u001b[33;43m\"\u001b[39;49m\u001b[33;43m\"\u001b[39;49m\u001b[43m,\u001b[49m\n\u001b[32m    879\u001b[39m \u001b[43m        \u001b[49m\u001b[43m)\u001b[49m\n\u001b[32m    880\u001b[39m     \u001b[38;5;28;01melse\u001b[39;00m:\n\u001b[32m    881\u001b[39m         \u001b[38;5;66;03m# Binary mode\u001b[39;00m\n\u001b[32m    882\u001b[39m         handle = \u001b[38;5;28mopen\u001b[39m(handle, ioargs.mode)\n",
      "\u001b[31mFileNotFoundError\u001b[39m: [Errno 2] No such file or directory: 'singleplot.csv'"
     ]
    }
   ],
   "source": [
    "pd.read_csv(\"singleplot.csv\")"
   ]
  },
  {
   "cell_type": "code",
   "execution_count": null,
   "id": "9f5150bd",
   "metadata": {},
   "outputs": [],
   "source": []
  },
  {
   "cell_type": "code",
   "execution_count": null,
   "id": "f1dee689",
   "metadata": {},
   "outputs": [],
   "source": []
  },
  {
   "cell_type": "code",
   "execution_count": null,
   "id": "79968272",
   "metadata": {},
   "outputs": [],
   "source": []
  },
  {
   "cell_type": "code",
   "execution_count": null,
   "id": "d336c6b0",
   "metadata": {},
   "outputs": [],
   "source": []
  },
  {
   "cell_type": "code",
   "execution_count": null,
   "id": "5970265d",
   "metadata": {},
   "outputs": [],
   "source": []
  },
  {
   "cell_type": "code",
   "execution_count": null,
   "id": "1e8c53b4",
   "metadata": {},
   "outputs": [],
   "source": []
  },
  {
   "cell_type": "code",
   "execution_count": null,
   "id": "384d89ba",
   "metadata": {},
   "outputs": [],
   "source": []
  },
  {
   "cell_type": "code",
   "execution_count": null,
   "id": "d668cfe8",
   "metadata": {},
   "outputs": [],
   "source": []
  }
 ],
 "metadata": {
  "kernelspec": {
   "display_name": "Python 3",
   "language": "python",
   "name": "python3"
  },
  "language_info": {
   "codemirror_mode": {
    "name": "ipython",
    "version": 3
   },
   "file_extension": ".py",
   "mimetype": "text/x-python",
   "name": "python",
   "nbconvert_exporter": "python",
   "pygments_lexer": "ipython3",
   "version": "3.12.10"
  }
 },
 "nbformat": 4,
 "nbformat_minor": 5
}
